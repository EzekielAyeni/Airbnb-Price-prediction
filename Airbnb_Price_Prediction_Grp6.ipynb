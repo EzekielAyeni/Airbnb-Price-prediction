{
  "cells": [
    {
      "cell_type": "markdown",
      "source": [
        "# **DATA ASSESSMENT - GROUP 6**"
      ],
      "metadata": {
        "id": "7QqypFlgW4hl"
      },
      "id": "7QqypFlgW4hl"
    },
    {
      "cell_type": "markdown",
      "id": "90d9b9ff-1b35-4987-8755-feed86edf121",
      "metadata": {
        "id": "90d9b9ff-1b35-4987-8755-feed86edf121"
      },
      "source": [
        "## AIRBNB PRICE PRIDICTION IN CANADA"
      ]
    },
    {
      "cell_type": "markdown",
      "source": [
        "We have chosen 6 different Airbnb datasets from different cities in Canada. We have also grouped the data based on the population of the cities into 3 segments namely: **Mega** (Toronto and Montreal), **Mid** (Vancouver and Winnipeg), and **Small** (Quebec city and Victoria)"
      ],
      "metadata": {
        "id": "1GvLTohHYzNy"
      },
      "id": "1GvLTohHYzNy"
    },
    {
      "cell_type": "code",
      "execution_count": 17,
      "id": "fff9a63f-3890-46df-9990-59158cef6447",
      "metadata": {
        "id": "fff9a63f-3890-46df-9990-59158cef6447"
      },
      "outputs": [],
      "source": [
        "# Importing libraries:\n",
        "\n",
        "import numpy as np\n",
        "import pandas as pd\n",
        "import matplotlib.pyplot as plt\n",
        "import seaborn as sns\n",
        "import plotly.express as px\n",
        "from statsmodels.graphics.gofplots import qqplot\n",
        "from mpl_toolkits.mplot3d import Axes3D\n",
        "from sklearn.preprocessing import StandardScaler\n",
        "import os "
      ]
    },
    {
      "cell_type": "markdown",
      "id": "27d03d7a-edf6-4d4b-90ec-cbfc82e7c056",
      "metadata": {
        "id": "27d03d7a-edf6-4d4b-90ec-cbfc82e7c056"
      },
      "source": [
        "# **Loading Datasets**"
      ]
    },
    {
      "cell_type": "code",
      "execution_count": 18,
      "id": "6aefb546-096f-4b59-984b-631cdc0c9596",
      "metadata": {
        "id": "6aefb546-096f-4b59-984b-631cdc0c9596"
      },
      "outputs": [],
      "source": [
        "Toronto = pd.read_csv(\"Toronto_Ontario_mega.csv\")\n",
        "\n",
        "Montreal = pd.read_csv(\"Montreal_Quebec_mega.csv\")\n",
        "\n",
        "Vancouver = pd.read_csv(\"Vancouver_BritishColumbia_mid.csv\")\n",
        "\n",
        "Winnipeg = pd.read_csv(\"Winnipeg_Manitoba_mid.csv\")\n",
        "\n",
        "Quebec = pd.read_csv(\"Quebec_Quebec_small.csv\")\n",
        "\n",
        "Victoria = pd.read_csv(\"Victoria_BritishCoumbia_small.csv\")"
      ]
    },
    {
      "cell_type": "markdown",
      "id": "97fba887-2fcc-4818-b8cc-78a500142474",
      "metadata": {
        "id": "97fba887-2fcc-4818-b8cc-78a500142474"
      },
      "source": [
        "# **Adding the column in each datasets**"
      ]
    },
    {
      "cell_type": "code",
      "execution_count": 19,
      "id": "2d17e02b-5c33-4cfc-8b19-ddc99de0266e",
      "metadata": {
        "id": "2d17e02b-5c33-4cfc-8b19-ddc99de0266e"
      },
      "outputs": [],
      "source": [
        "Toronto['City'] = 'Toronto'\n",
        "\n",
        "Montreal['City'] = 'Montreal'\n",
        "\n",
        "Vancouver['City'] = 'Vancouver'\n",
        "\n",
        "Winnipeg['City'] = 'Winnipeg'\n",
        "\n",
        "Quebec['City'] = 'Quebec'\n",
        "\n",
        "Victoria['City'] = 'Victoria'"
      ]
    },
    {
      "cell_type": "markdown",
      "id": "ad869270-eea4-4a0e-a61a-ee237a54682b",
      "metadata": {
        "id": "ad869270-eea4-4a0e-a61a-ee237a54682b"
      },
      "source": [
        "# **Segmenting cities into Mega, Mid, and Small with respect to population**"
      ]
    },
    {
      "cell_type": "code",
      "execution_count": 20,
      "id": "81a5f8d8-edfa-48f1-a075-bb204e83a994",
      "metadata": {
        "id": "81a5f8d8-edfa-48f1-a075-bb204e83a994"
      },
      "outputs": [],
      "source": [
        "Toronto['City_type'] = 'Mega'\n",
        "\n",
        "Montreal['City_type'] = 'Mega'\n",
        "\n",
        "Vancouver['City_type'] = 'Mid'\n",
        "\n",
        "Winnipeg['City_type'] = 'Mid'\n",
        "\n",
        "Quebec['City_type'] = 'Small'\n",
        "\n",
        "Victoria['City_type'] = 'Small'"
      ]
    },
    {
      "cell_type": "markdown",
      "id": "b896433b-63c1-4076-a476-3226914b107f",
      "metadata": {
        "id": "b896433b-63c1-4076-a476-3226914b107f"
      },
      "source": [
        "# **We observed that all the dataset have the same variables. Hence we have merged the datasets into one and rename it as: Airbnb**"
      ]
    },
    {
      "cell_type": "code",
      "execution_count": 21,
      "id": "2be599a9-4b32-4cc1-8e1a-af68be31f709",
      "metadata": {
        "id": "2be599a9-4b32-4cc1-8e1a-af68be31f709"
      },
      "outputs": [],
      "source": [
        "Airbnb =  pd.concat([Toronto, Montreal, Vancouver, Winnipeg, Quebec, Victoria])"
      ]
    },
    {
      "cell_type": "code",
      "source": [
        "#Exporting Airbnb to file\n",
        "\n",
        "Airbnb.to_csv('Airbnb.csv', index=False)"
      ],
      "metadata": {
        "id": "Vrho8cwx338R"
      },
      "id": "Vrho8cwx338R",
      "execution_count": 22,
      "outputs": []
    },
    {
      "cell_type": "markdown",
      "source": [
        "# **Assessing the dataset**"
      ],
      "metadata": {
        "id": "MMRVLWVPMHyI"
      },
      "id": "MMRVLWVPMHyI"
    },
    {
      "cell_type": "code",
      "execution_count": 23,
      "id": "76428e9f-cf92-40ed-b5a1-7a5d43951e85",
      "metadata": {
        "colab": {
          "base_uri": "https://localhost:8080/",
          "height": 617
        },
        "id": "76428e9f-cf92-40ed-b5a1-7a5d43951e85",
        "outputId": "b4669b48-ef3b-49b7-e998-ce522b9dd088"
      },
      "outputs": [
        {
          "output_type": "execute_result",
          "data": {
            "text/plain": [
              "        id                                               name  host_id  \\\n",
              "0   2818.0           Quiet Garden View Room & Super Fast WiFi     3159   \n",
              "1  20168.0       Studio with private bathroom in the centre 1    59484   \n",
              "2  27886.0  Romantic, stylish B&B houseboat in canal district    97647   \n",
              "3  28871.0                            Comfortable double room   124245   \n",
              "4  29051.0                            Comfortable single room   124245   \n",
              "\n",
              "   host_name neighbourhood_group                           neighbourhood  \\\n",
              "0     Daniel                 NaN  Oostelijk Havengebied - Indische Buurt   \n",
              "1  Alexander                 NaN                            Centrum-Oost   \n",
              "2       Flip                 NaN                            Centrum-West   \n",
              "3      Edwin                 NaN                            Centrum-West   \n",
              "4      Edwin                 NaN                            Centrum-Oost   \n",
              "\n",
              "   latitude  longitude     room_type  price  minimum_nights  \\\n",
              "0  52.36435    4.94358  Private room     49               3   \n",
              "1  52.36407    4.89393  Private room    106               1   \n",
              "2  52.38761    4.89188  Private room    136               2   \n",
              "3  52.36775    4.89092  Private room     75               2   \n",
              "4  52.36584    4.89111  Private room     55               2   \n",
              "\n",
              "   number_of_reviews last_review  reviews_per_month  \\\n",
              "0                305  2022-08-30               1.86   \n",
              "1                339  2020-04-09               2.22   \n",
              "2                231  2022-04-24               1.78   \n",
              "3                428  2022-08-24               2.92   \n",
              "4                582  2022-08-29               4.16   \n",
              "\n",
              "   calculated_host_listings_count  availability_365  number_of_reviews_ltm  \\\n",
              "0                               1                14                     25   \n",
              "1                               2                 0                      0   \n",
              "2                               1               121                      8   \n",
              "3                               2               117                     75   \n",
              "4                               2               160                     86   \n",
              "\n",
              "                    license     City City_type  \n",
              "0  0363 5F3A 5684 6750 D14D  Toronto      Mega  \n",
              "1  0363 CBB3 2C10 0C2A 1E29  Toronto      Mega  \n",
              "2  0363 974D 4986 7411 88D8  Toronto      Mega  \n",
              "3  0363 607B EA74 0BD8 2F6F  Toronto      Mega  \n",
              "4  0363 607B EA74 0BD8 2F6F  Toronto      Mega  "
            ],
            "text/html": [
              "\n",
              "  <div id=\"df-87932345-49a9-4737-be35-7e3ea9b10b21\">\n",
              "    <div class=\"colab-df-container\">\n",
              "      <div>\n",
              "<style scoped>\n",
              "    .dataframe tbody tr th:only-of-type {\n",
              "        vertical-align: middle;\n",
              "    }\n",
              "\n",
              "    .dataframe tbody tr th {\n",
              "        vertical-align: top;\n",
              "    }\n",
              "\n",
              "    .dataframe thead th {\n",
              "        text-align: right;\n",
              "    }\n",
              "</style>\n",
              "<table border=\"1\" class=\"dataframe\">\n",
              "  <thead>\n",
              "    <tr style=\"text-align: right;\">\n",
              "      <th></th>\n",
              "      <th>id</th>\n",
              "      <th>name</th>\n",
              "      <th>host_id</th>\n",
              "      <th>host_name</th>\n",
              "      <th>neighbourhood_group</th>\n",
              "      <th>neighbourhood</th>\n",
              "      <th>latitude</th>\n",
              "      <th>longitude</th>\n",
              "      <th>room_type</th>\n",
              "      <th>price</th>\n",
              "      <th>minimum_nights</th>\n",
              "      <th>number_of_reviews</th>\n",
              "      <th>last_review</th>\n",
              "      <th>reviews_per_month</th>\n",
              "      <th>calculated_host_listings_count</th>\n",
              "      <th>availability_365</th>\n",
              "      <th>number_of_reviews_ltm</th>\n",
              "      <th>license</th>\n",
              "      <th>City</th>\n",
              "      <th>City_type</th>\n",
              "    </tr>\n",
              "  </thead>\n",
              "  <tbody>\n",
              "    <tr>\n",
              "      <th>0</th>\n",
              "      <td>2818.0</td>\n",
              "      <td>Quiet Garden View Room &amp; Super Fast WiFi</td>\n",
              "      <td>3159</td>\n",
              "      <td>Daniel</td>\n",
              "      <td>NaN</td>\n",
              "      <td>Oostelijk Havengebied - Indische Buurt</td>\n",
              "      <td>52.36435</td>\n",
              "      <td>4.94358</td>\n",
              "      <td>Private room</td>\n",
              "      <td>49</td>\n",
              "      <td>3</td>\n",
              "      <td>305</td>\n",
              "      <td>2022-08-30</td>\n",
              "      <td>1.86</td>\n",
              "      <td>1</td>\n",
              "      <td>14</td>\n",
              "      <td>25</td>\n",
              "      <td>0363 5F3A 5684 6750 D14D</td>\n",
              "      <td>Toronto</td>\n",
              "      <td>Mega</td>\n",
              "    </tr>\n",
              "    <tr>\n",
              "      <th>1</th>\n",
              "      <td>20168.0</td>\n",
              "      <td>Studio with private bathroom in the centre 1</td>\n",
              "      <td>59484</td>\n",
              "      <td>Alexander</td>\n",
              "      <td>NaN</td>\n",
              "      <td>Centrum-Oost</td>\n",
              "      <td>52.36407</td>\n",
              "      <td>4.89393</td>\n",
              "      <td>Private room</td>\n",
              "      <td>106</td>\n",
              "      <td>1</td>\n",
              "      <td>339</td>\n",
              "      <td>2020-04-09</td>\n",
              "      <td>2.22</td>\n",
              "      <td>2</td>\n",
              "      <td>0</td>\n",
              "      <td>0</td>\n",
              "      <td>0363 CBB3 2C10 0C2A 1E29</td>\n",
              "      <td>Toronto</td>\n",
              "      <td>Mega</td>\n",
              "    </tr>\n",
              "    <tr>\n",
              "      <th>2</th>\n",
              "      <td>27886.0</td>\n",
              "      <td>Romantic, stylish B&amp;B houseboat in canal district</td>\n",
              "      <td>97647</td>\n",
              "      <td>Flip</td>\n",
              "      <td>NaN</td>\n",
              "      <td>Centrum-West</td>\n",
              "      <td>52.38761</td>\n",
              "      <td>4.89188</td>\n",
              "      <td>Private room</td>\n",
              "      <td>136</td>\n",
              "      <td>2</td>\n",
              "      <td>231</td>\n",
              "      <td>2022-04-24</td>\n",
              "      <td>1.78</td>\n",
              "      <td>1</td>\n",
              "      <td>121</td>\n",
              "      <td>8</td>\n",
              "      <td>0363 974D 4986 7411 88D8</td>\n",
              "      <td>Toronto</td>\n",
              "      <td>Mega</td>\n",
              "    </tr>\n",
              "    <tr>\n",
              "      <th>3</th>\n",
              "      <td>28871.0</td>\n",
              "      <td>Comfortable double room</td>\n",
              "      <td>124245</td>\n",
              "      <td>Edwin</td>\n",
              "      <td>NaN</td>\n",
              "      <td>Centrum-West</td>\n",
              "      <td>52.36775</td>\n",
              "      <td>4.89092</td>\n",
              "      <td>Private room</td>\n",
              "      <td>75</td>\n",
              "      <td>2</td>\n",
              "      <td>428</td>\n",
              "      <td>2022-08-24</td>\n",
              "      <td>2.92</td>\n",
              "      <td>2</td>\n",
              "      <td>117</td>\n",
              "      <td>75</td>\n",
              "      <td>0363 607B EA74 0BD8 2F6F</td>\n",
              "      <td>Toronto</td>\n",
              "      <td>Mega</td>\n",
              "    </tr>\n",
              "    <tr>\n",
              "      <th>4</th>\n",
              "      <td>29051.0</td>\n",
              "      <td>Comfortable single room</td>\n",
              "      <td>124245</td>\n",
              "      <td>Edwin</td>\n",
              "      <td>NaN</td>\n",
              "      <td>Centrum-Oost</td>\n",
              "      <td>52.36584</td>\n",
              "      <td>4.89111</td>\n",
              "      <td>Private room</td>\n",
              "      <td>55</td>\n",
              "      <td>2</td>\n",
              "      <td>582</td>\n",
              "      <td>2022-08-29</td>\n",
              "      <td>4.16</td>\n",
              "      <td>2</td>\n",
              "      <td>160</td>\n",
              "      <td>86</td>\n",
              "      <td>0363 607B EA74 0BD8 2F6F</td>\n",
              "      <td>Toronto</td>\n",
              "      <td>Mega</td>\n",
              "    </tr>\n",
              "  </tbody>\n",
              "</table>\n",
              "</div>\n",
              "      <button class=\"colab-df-convert\" onclick=\"convertToInteractive('df-87932345-49a9-4737-be35-7e3ea9b10b21')\"\n",
              "              title=\"Convert this dataframe to an interactive table.\"\n",
              "              style=\"display:none;\">\n",
              "        \n",
              "  <svg xmlns=\"http://www.w3.org/2000/svg\" height=\"24px\"viewBox=\"0 0 24 24\"\n",
              "       width=\"24px\">\n",
              "    <path d=\"M0 0h24v24H0V0z\" fill=\"none\"/>\n",
              "    <path d=\"M18.56 5.44l.94 2.06.94-2.06 2.06-.94-2.06-.94-.94-2.06-.94 2.06-2.06.94zm-11 1L8.5 8.5l.94-2.06 2.06-.94-2.06-.94L8.5 2.5l-.94 2.06-2.06.94zm10 10l.94 2.06.94-2.06 2.06-.94-2.06-.94-.94-2.06-.94 2.06-2.06.94z\"/><path d=\"M17.41 7.96l-1.37-1.37c-.4-.4-.92-.59-1.43-.59-.52 0-1.04.2-1.43.59L10.3 9.45l-7.72 7.72c-.78.78-.78 2.05 0 2.83L4 21.41c.39.39.9.59 1.41.59.51 0 1.02-.2 1.41-.59l7.78-7.78 2.81-2.81c.8-.78.8-2.07 0-2.86zM5.41 20L4 18.59l7.72-7.72 1.47 1.35L5.41 20z\"/>\n",
              "  </svg>\n",
              "      </button>\n",
              "      \n",
              "  <style>\n",
              "    .colab-df-container {\n",
              "      display:flex;\n",
              "      flex-wrap:wrap;\n",
              "      gap: 12px;\n",
              "    }\n",
              "\n",
              "    .colab-df-convert {\n",
              "      background-color: #E8F0FE;\n",
              "      border: none;\n",
              "      border-radius: 50%;\n",
              "      cursor: pointer;\n",
              "      display: none;\n",
              "      fill: #1967D2;\n",
              "      height: 32px;\n",
              "      padding: 0 0 0 0;\n",
              "      width: 32px;\n",
              "    }\n",
              "\n",
              "    .colab-df-convert:hover {\n",
              "      background-color: #E2EBFA;\n",
              "      box-shadow: 0px 1px 2px rgba(60, 64, 67, 0.3), 0px 1px 3px 1px rgba(60, 64, 67, 0.15);\n",
              "      fill: #174EA6;\n",
              "    }\n",
              "\n",
              "    [theme=dark] .colab-df-convert {\n",
              "      background-color: #3B4455;\n",
              "      fill: #D2E3FC;\n",
              "    }\n",
              "\n",
              "    [theme=dark] .colab-df-convert:hover {\n",
              "      background-color: #434B5C;\n",
              "      box-shadow: 0px 1px 3px 1px rgba(0, 0, 0, 0.15);\n",
              "      filter: drop-shadow(0px 1px 2px rgba(0, 0, 0, 0.3));\n",
              "      fill: #FFFFFF;\n",
              "    }\n",
              "  </style>\n",
              "\n",
              "      <script>\n",
              "        const buttonEl =\n",
              "          document.querySelector('#df-87932345-49a9-4737-be35-7e3ea9b10b21 button.colab-df-convert');\n",
              "        buttonEl.style.display =\n",
              "          google.colab.kernel.accessAllowed ? 'block' : 'none';\n",
              "\n",
              "        async function convertToInteractive(key) {\n",
              "          const element = document.querySelector('#df-87932345-49a9-4737-be35-7e3ea9b10b21');\n",
              "          const dataTable =\n",
              "            await google.colab.kernel.invokeFunction('convertToInteractive',\n",
              "                                                     [key], {});\n",
              "          if (!dataTable) return;\n",
              "\n",
              "          const docLinkHtml = 'Like what you see? Visit the ' +\n",
              "            '<a target=\"_blank\" href=https://colab.research.google.com/notebooks/data_table.ipynb>data table notebook</a>'\n",
              "            + ' to learn more about interactive tables.';\n",
              "          element.innerHTML = '';\n",
              "          dataTable['output_type'] = 'display_data';\n",
              "          await google.colab.output.renderOutput(dataTable, element);\n",
              "          const docLink = document.createElement('div');\n",
              "          docLink.innerHTML = docLinkHtml;\n",
              "          element.appendChild(docLink);\n",
              "        }\n",
              "      </script>\n",
              "    </div>\n",
              "  </div>\n",
              "  "
            ]
          },
          "metadata": {},
          "execution_count": 23
        }
      ],
      "source": [
        "Airbnb.head()"
      ]
    },
    {
      "cell_type": "code",
      "execution_count": 24,
      "id": "9d56546e-199b-45e8-b5ab-4ea3a040d2b0",
      "metadata": {
        "colab": {
          "base_uri": "https://localhost:8080/"
        },
        "id": "9d56546e-199b-45e8-b5ab-4ea3a040d2b0",
        "outputId": "017992a6-a07e-41c4-b839-b9a984c06426"
      },
      "outputs": [
        {
          "output_type": "stream",
          "name": "stdout",
          "text": [
            "<class 'pandas.core.frame.DataFrame'>\n",
            "Int64Index: 34694 entries, 0 to 4161\n",
            "Data columns (total 20 columns):\n",
            " #   Column                          Non-Null Count  Dtype  \n",
            "---  ------                          --------------  -----  \n",
            " 0   id                              34694 non-null  float64\n",
            " 1   name                            34687 non-null  object \n",
            " 2   host_id                         34694 non-null  int64  \n",
            " 3   host_name                       34694 non-null  object \n",
            " 4   neighbourhood_group             4162 non-null   object \n",
            " 5   neighbourhood                   34694 non-null  object \n",
            " 6   latitude                        34694 non-null  float64\n",
            " 7   longitude                       34694 non-null  float64\n",
            " 8   room_type                       34694 non-null  object \n",
            " 9   price                           34694 non-null  int64  \n",
            " 10  minimum_nights                  34694 non-null  int64  \n",
            " 11  number_of_reviews               34694 non-null  int64  \n",
            " 12  last_review                     28928 non-null  object \n",
            " 13  reviews_per_month               28928 non-null  float64\n",
            " 14  calculated_host_listings_count  34694 non-null  int64  \n",
            " 15  availability_365                34694 non-null  int64  \n",
            " 16  number_of_reviews_ltm           34694 non-null  int64  \n",
            " 17  license                         12143 non-null  object \n",
            " 18  City                            34694 non-null  object \n",
            " 19  City_type                       34694 non-null  object \n",
            "dtypes: float64(4), int64(7), object(9)\n",
            "memory usage: 5.6+ MB\n"
          ]
        }
      ],
      "source": [
        "Airbnb.info()"
      ]
    },
    {
      "cell_type": "code",
      "execution_count": 25,
      "id": "84f2d200-60ea-43a9-8c99-09e57356e802",
      "metadata": {
        "colab": {
          "base_uri": "https://localhost:8080/"
        },
        "id": "84f2d200-60ea-43a9-8c99-09e57356e802",
        "outputId": "c65207f9-5f85-42b2-c6e1-39b65c3b1b0d"
      },
      "outputs": [
        {
          "output_type": "execute_result",
          "data": {
            "text/plain": [
              "id                                    0\n",
              "name                                  7\n",
              "host_id                               0\n",
              "host_name                             0\n",
              "neighbourhood_group               30532\n",
              "neighbourhood                         0\n",
              "latitude                              0\n",
              "longitude                             0\n",
              "room_type                             0\n",
              "price                                 0\n",
              "minimum_nights                        0\n",
              "number_of_reviews                     0\n",
              "last_review                        5766\n",
              "reviews_per_month                  5766\n",
              "calculated_host_listings_count        0\n",
              "availability_365                      0\n",
              "number_of_reviews_ltm                 0\n",
              "license                           22551\n",
              "City                                  0\n",
              "City_type                             0\n",
              "dtype: int64"
            ]
          },
          "metadata": {},
          "execution_count": 25
        }
      ],
      "source": [
        "#Checking for null values in the dataset\n",
        "\n",
        "Airbnb.isnull().sum()"
      ]
    },
    {
      "cell_type": "markdown",
      "source": [
        "**Dropping columns with few or negligible observations**"
      ],
      "metadata": {
        "id": "viTwBQDKNM6_"
      },
      "id": "viTwBQDKNM6_"
    },
    {
      "cell_type": "code",
      "execution_count": 26,
      "id": "2e17fa83-f1c7-4b70-8e65-f349050dc470",
      "metadata": {
        "id": "2e17fa83-f1c7-4b70-8e65-f349050dc470"
      },
      "outputs": [],
      "source": [
        "#Dropping the variable: neighbourhood_group because the column has few and negligible observation\n",
        "\n",
        "Airbnb.drop([\"neighbourhood_group\"], axis=1, inplace=True)"
      ]
    },
    {
      "cell_type": "code",
      "execution_count": 27,
      "metadata": {
        "id": "-PxLGn-r58Sh"
      },
      "outputs": [],
      "source": [
        "#Dropping the variable: license because the column has few and negligible observation\n",
        "\n",
        "Airbnb.drop([\"license\"], axis=1, inplace=True)"
      ],
      "id": "-PxLGn-r58Sh"
    },
    {
      "cell_type": "markdown",
      "source": [
        "**There are three columns with null variable: name, last_review, and reviews_per_month. we will clean the name columns as it seems important for analysis.**"
      ],
      "metadata": {
        "id": "4BTsMm4_7pb2"
      },
      "id": "4BTsMm4_7pb2"
    },
    {
      "cell_type": "code",
      "execution_count": 28,
      "id": "a8f3937a-ce35-41a3-96c9-d1f9e37ee344",
      "metadata": {
        "id": "a8f3937a-ce35-41a3-96c9-d1f9e37ee344"
      },
      "outputs": [],
      "source": [
        "#Filling missing values in column \"name\" with 0\n",
        "\n",
        "Airbnb['name'].fillna(0, inplace = True)"
      ]
    },
    {
      "cell_type": "code",
      "source": [
        "#Dropping missing values in \"name column\"\n",
        "Airbnb_name = Airbnb[Airbnb['name'] == 0 ].index\n",
        "Airbnb.drop(Airbnb_name, inplace = True)\n",
        "  \n",
        "Airbnb"
      ],
      "metadata": {
        "colab": {
          "base_uri": "https://localhost:8080/",
          "height": 973
        },
        "id": "PNCivLV1Gpxt",
        "outputId": "fe901d3b-343c-4504-97ed-cf8601540adf"
      },
      "id": "PNCivLV1Gpxt",
      "execution_count": 29,
      "outputs": [
        {
          "output_type": "execute_result",
          "data": {
            "text/plain": [
              "                id                                               name  \\\n",
              "0     2.818000e+03           Quiet Garden View Room & Super Fast WiFi   \n",
              "1     2.016800e+04       Studio with private bathroom in the centre 1   \n",
              "2     2.788600e+04  Romantic, stylish B&B houseboat in canal district   \n",
              "3     2.887100e+04                            Comfortable double room   \n",
              "4     2.905100e+04                            Comfortable single room   \n",
              "...            ...                                                ...   \n",
              "4157  7.906290e+17                   Cosy 1-Bedroom suite on Bear Mt.   \n",
              "4158  7.906640e+17                                     West Bay Bliss   \n",
              "4159  7.908080e+17                       Bear Mountain Master Bedroom   \n",
              "4160  7.908430e+17        New 3 King 1 Sofa Beds Suite w/ Forest View   \n",
              "4161  7.913270e+17                   Downtown Victoria at \"The Falls\"   \n",
              "\n",
              "        host_id             host_name                           neighbourhood  \\\n",
              "0          3159                Daniel  Oostelijk Havengebied - Indische Buurt   \n",
              "1         59484             Alexander                            Centrum-Oost   \n",
              "2         97647                  Flip                            Centrum-West   \n",
              "3        124245                 Edwin                            Centrum-West   \n",
              "4        124245                 Edwin                            Centrum-Oost   \n",
              "...         ...                   ...                                     ...   \n",
              "4157  492878269              Kwan Yin                                Langford   \n",
              "4158   32614142  Elite Vacation Homes                               Esquimalt   \n",
              "4159  432562413                  Alan                                Langford   \n",
              "4160    2792104                   Max                                Langford   \n",
              "4161  325395121                Martha                                Downtown   \n",
              "\n",
              "       latitude   longitude        room_type  price  minimum_nights  \\\n",
              "0     52.364350    4.943580     Private room     49               3   \n",
              "1     52.364070    4.893930     Private room    106               1   \n",
              "2     52.387610    4.891880     Private room    136               2   \n",
              "3     52.367750    4.890920     Private room     75               2   \n",
              "4     52.365840    4.891110     Private room     55               2   \n",
              "...         ...         ...              ...    ...             ...   \n",
              "4157  48.457684 -123.520545  Entire home/apt     73               2   \n",
              "4158  48.426346 -123.399571  Entire home/apt    177              29   \n",
              "4159  48.458550 -123.521320     Private room    175               1   \n",
              "4160  48.413110 -123.521790  Entire home/apt     98               1   \n",
              "4161  48.422389 -123.365237  Entire home/apt    131               3   \n",
              "\n",
              "      number_of_reviews last_review  reviews_per_month  \\\n",
              "0                   305  2022-08-30               1.86   \n",
              "1                   339  2020-04-09               2.22   \n",
              "2                   231  2022-04-24               1.78   \n",
              "3                   428  2022-08-24               2.92   \n",
              "4                   582  2022-08-29               4.16   \n",
              "...                 ...         ...                ...   \n",
              "4157                  0         NaN                NaN   \n",
              "4158                  0         NaN                NaN   \n",
              "4159                  0         NaN                NaN   \n",
              "4160                  0         NaN                NaN   \n",
              "4161                  0         NaN                NaN   \n",
              "\n",
              "      calculated_host_listings_count  availability_365  number_of_reviews_ltm  \\\n",
              "0                                  1                14                     25   \n",
              "1                                  2                 0                      0   \n",
              "2                                  1               121                      8   \n",
              "3                                  2               117                     75   \n",
              "4                                  2               160                     86   \n",
              "...                              ...               ...                    ...   \n",
              "4157                               1               364                      0   \n",
              "4158                              65               364                      0   \n",
              "4159                               1               364                      0   \n",
              "4160                              12               138                      0   \n",
              "4161                               1               267                      0   \n",
              "\n",
              "          City City_type  \n",
              "0      Toronto      Mega  \n",
              "1      Toronto      Mega  \n",
              "2      Toronto      Mega  \n",
              "3      Toronto      Mega  \n",
              "4      Toronto      Mega  \n",
              "...        ...       ...  \n",
              "4157  Victoria     Small  \n",
              "4158  Victoria     Small  \n",
              "4159  Victoria     Small  \n",
              "4160  Victoria     Small  \n",
              "4161  Victoria     Small  \n",
              "\n",
              "[34652 rows x 18 columns]"
            ],
            "text/html": [
              "\n",
              "  <div id=\"df-6598c37c-e8f2-4218-986c-9f7c32752815\">\n",
              "    <div class=\"colab-df-container\">\n",
              "      <div>\n",
              "<style scoped>\n",
              "    .dataframe tbody tr th:only-of-type {\n",
              "        vertical-align: middle;\n",
              "    }\n",
              "\n",
              "    .dataframe tbody tr th {\n",
              "        vertical-align: top;\n",
              "    }\n",
              "\n",
              "    .dataframe thead th {\n",
              "        text-align: right;\n",
              "    }\n",
              "</style>\n",
              "<table border=\"1\" class=\"dataframe\">\n",
              "  <thead>\n",
              "    <tr style=\"text-align: right;\">\n",
              "      <th></th>\n",
              "      <th>id</th>\n",
              "      <th>name</th>\n",
              "      <th>host_id</th>\n",
              "      <th>host_name</th>\n",
              "      <th>neighbourhood</th>\n",
              "      <th>latitude</th>\n",
              "      <th>longitude</th>\n",
              "      <th>room_type</th>\n",
              "      <th>price</th>\n",
              "      <th>minimum_nights</th>\n",
              "      <th>number_of_reviews</th>\n",
              "      <th>last_review</th>\n",
              "      <th>reviews_per_month</th>\n",
              "      <th>calculated_host_listings_count</th>\n",
              "      <th>availability_365</th>\n",
              "      <th>number_of_reviews_ltm</th>\n",
              "      <th>City</th>\n",
              "      <th>City_type</th>\n",
              "    </tr>\n",
              "  </thead>\n",
              "  <tbody>\n",
              "    <tr>\n",
              "      <th>0</th>\n",
              "      <td>2.818000e+03</td>\n",
              "      <td>Quiet Garden View Room &amp; Super Fast WiFi</td>\n",
              "      <td>3159</td>\n",
              "      <td>Daniel</td>\n",
              "      <td>Oostelijk Havengebied - Indische Buurt</td>\n",
              "      <td>52.364350</td>\n",
              "      <td>4.943580</td>\n",
              "      <td>Private room</td>\n",
              "      <td>49</td>\n",
              "      <td>3</td>\n",
              "      <td>305</td>\n",
              "      <td>2022-08-30</td>\n",
              "      <td>1.86</td>\n",
              "      <td>1</td>\n",
              "      <td>14</td>\n",
              "      <td>25</td>\n",
              "      <td>Toronto</td>\n",
              "      <td>Mega</td>\n",
              "    </tr>\n",
              "    <tr>\n",
              "      <th>1</th>\n",
              "      <td>2.016800e+04</td>\n",
              "      <td>Studio with private bathroom in the centre 1</td>\n",
              "      <td>59484</td>\n",
              "      <td>Alexander</td>\n",
              "      <td>Centrum-Oost</td>\n",
              "      <td>52.364070</td>\n",
              "      <td>4.893930</td>\n",
              "      <td>Private room</td>\n",
              "      <td>106</td>\n",
              "      <td>1</td>\n",
              "      <td>339</td>\n",
              "      <td>2020-04-09</td>\n",
              "      <td>2.22</td>\n",
              "      <td>2</td>\n",
              "      <td>0</td>\n",
              "      <td>0</td>\n",
              "      <td>Toronto</td>\n",
              "      <td>Mega</td>\n",
              "    </tr>\n",
              "    <tr>\n",
              "      <th>2</th>\n",
              "      <td>2.788600e+04</td>\n",
              "      <td>Romantic, stylish B&amp;B houseboat in canal district</td>\n",
              "      <td>97647</td>\n",
              "      <td>Flip</td>\n",
              "      <td>Centrum-West</td>\n",
              "      <td>52.387610</td>\n",
              "      <td>4.891880</td>\n",
              "      <td>Private room</td>\n",
              "      <td>136</td>\n",
              "      <td>2</td>\n",
              "      <td>231</td>\n",
              "      <td>2022-04-24</td>\n",
              "      <td>1.78</td>\n",
              "      <td>1</td>\n",
              "      <td>121</td>\n",
              "      <td>8</td>\n",
              "      <td>Toronto</td>\n",
              "      <td>Mega</td>\n",
              "    </tr>\n",
              "    <tr>\n",
              "      <th>3</th>\n",
              "      <td>2.887100e+04</td>\n",
              "      <td>Comfortable double room</td>\n",
              "      <td>124245</td>\n",
              "      <td>Edwin</td>\n",
              "      <td>Centrum-West</td>\n",
              "      <td>52.367750</td>\n",
              "      <td>4.890920</td>\n",
              "      <td>Private room</td>\n",
              "      <td>75</td>\n",
              "      <td>2</td>\n",
              "      <td>428</td>\n",
              "      <td>2022-08-24</td>\n",
              "      <td>2.92</td>\n",
              "      <td>2</td>\n",
              "      <td>117</td>\n",
              "      <td>75</td>\n",
              "      <td>Toronto</td>\n",
              "      <td>Mega</td>\n",
              "    </tr>\n",
              "    <tr>\n",
              "      <th>4</th>\n",
              "      <td>2.905100e+04</td>\n",
              "      <td>Comfortable single room</td>\n",
              "      <td>124245</td>\n",
              "      <td>Edwin</td>\n",
              "      <td>Centrum-Oost</td>\n",
              "      <td>52.365840</td>\n",
              "      <td>4.891110</td>\n",
              "      <td>Private room</td>\n",
              "      <td>55</td>\n",
              "      <td>2</td>\n",
              "      <td>582</td>\n",
              "      <td>2022-08-29</td>\n",
              "      <td>4.16</td>\n",
              "      <td>2</td>\n",
              "      <td>160</td>\n",
              "      <td>86</td>\n",
              "      <td>Toronto</td>\n",
              "      <td>Mega</td>\n",
              "    </tr>\n",
              "    <tr>\n",
              "      <th>...</th>\n",
              "      <td>...</td>\n",
              "      <td>...</td>\n",
              "      <td>...</td>\n",
              "      <td>...</td>\n",
              "      <td>...</td>\n",
              "      <td>...</td>\n",
              "      <td>...</td>\n",
              "      <td>...</td>\n",
              "      <td>...</td>\n",
              "      <td>...</td>\n",
              "      <td>...</td>\n",
              "      <td>...</td>\n",
              "      <td>...</td>\n",
              "      <td>...</td>\n",
              "      <td>...</td>\n",
              "      <td>...</td>\n",
              "      <td>...</td>\n",
              "      <td>...</td>\n",
              "    </tr>\n",
              "    <tr>\n",
              "      <th>4157</th>\n",
              "      <td>7.906290e+17</td>\n",
              "      <td>Cosy 1-Bedroom suite on Bear Mt.</td>\n",
              "      <td>492878269</td>\n",
              "      <td>Kwan Yin</td>\n",
              "      <td>Langford</td>\n",
              "      <td>48.457684</td>\n",
              "      <td>-123.520545</td>\n",
              "      <td>Entire home/apt</td>\n",
              "      <td>73</td>\n",
              "      <td>2</td>\n",
              "      <td>0</td>\n",
              "      <td>NaN</td>\n",
              "      <td>NaN</td>\n",
              "      <td>1</td>\n",
              "      <td>364</td>\n",
              "      <td>0</td>\n",
              "      <td>Victoria</td>\n",
              "      <td>Small</td>\n",
              "    </tr>\n",
              "    <tr>\n",
              "      <th>4158</th>\n",
              "      <td>7.906640e+17</td>\n",
              "      <td>West Bay Bliss</td>\n",
              "      <td>32614142</td>\n",
              "      <td>Elite Vacation Homes</td>\n",
              "      <td>Esquimalt</td>\n",
              "      <td>48.426346</td>\n",
              "      <td>-123.399571</td>\n",
              "      <td>Entire home/apt</td>\n",
              "      <td>177</td>\n",
              "      <td>29</td>\n",
              "      <td>0</td>\n",
              "      <td>NaN</td>\n",
              "      <td>NaN</td>\n",
              "      <td>65</td>\n",
              "      <td>364</td>\n",
              "      <td>0</td>\n",
              "      <td>Victoria</td>\n",
              "      <td>Small</td>\n",
              "    </tr>\n",
              "    <tr>\n",
              "      <th>4159</th>\n",
              "      <td>7.908080e+17</td>\n",
              "      <td>Bear Mountain Master Bedroom</td>\n",
              "      <td>432562413</td>\n",
              "      <td>Alan</td>\n",
              "      <td>Langford</td>\n",
              "      <td>48.458550</td>\n",
              "      <td>-123.521320</td>\n",
              "      <td>Private room</td>\n",
              "      <td>175</td>\n",
              "      <td>1</td>\n",
              "      <td>0</td>\n",
              "      <td>NaN</td>\n",
              "      <td>NaN</td>\n",
              "      <td>1</td>\n",
              "      <td>364</td>\n",
              "      <td>0</td>\n",
              "      <td>Victoria</td>\n",
              "      <td>Small</td>\n",
              "    </tr>\n",
              "    <tr>\n",
              "      <th>4160</th>\n",
              "      <td>7.908430e+17</td>\n",
              "      <td>New 3 King 1 Sofa Beds Suite w/ Forest View</td>\n",
              "      <td>2792104</td>\n",
              "      <td>Max</td>\n",
              "      <td>Langford</td>\n",
              "      <td>48.413110</td>\n",
              "      <td>-123.521790</td>\n",
              "      <td>Entire home/apt</td>\n",
              "      <td>98</td>\n",
              "      <td>1</td>\n",
              "      <td>0</td>\n",
              "      <td>NaN</td>\n",
              "      <td>NaN</td>\n",
              "      <td>12</td>\n",
              "      <td>138</td>\n",
              "      <td>0</td>\n",
              "      <td>Victoria</td>\n",
              "      <td>Small</td>\n",
              "    </tr>\n",
              "    <tr>\n",
              "      <th>4161</th>\n",
              "      <td>7.913270e+17</td>\n",
              "      <td>Downtown Victoria at \"The Falls\"</td>\n",
              "      <td>325395121</td>\n",
              "      <td>Martha</td>\n",
              "      <td>Downtown</td>\n",
              "      <td>48.422389</td>\n",
              "      <td>-123.365237</td>\n",
              "      <td>Entire home/apt</td>\n",
              "      <td>131</td>\n",
              "      <td>3</td>\n",
              "      <td>0</td>\n",
              "      <td>NaN</td>\n",
              "      <td>NaN</td>\n",
              "      <td>1</td>\n",
              "      <td>267</td>\n",
              "      <td>0</td>\n",
              "      <td>Victoria</td>\n",
              "      <td>Small</td>\n",
              "    </tr>\n",
              "  </tbody>\n",
              "</table>\n",
              "<p>34652 rows × 18 columns</p>\n",
              "</div>\n",
              "      <button class=\"colab-df-convert\" onclick=\"convertToInteractive('df-6598c37c-e8f2-4218-986c-9f7c32752815')\"\n",
              "              title=\"Convert this dataframe to an interactive table.\"\n",
              "              style=\"display:none;\">\n",
              "        \n",
              "  <svg xmlns=\"http://www.w3.org/2000/svg\" height=\"24px\"viewBox=\"0 0 24 24\"\n",
              "       width=\"24px\">\n",
              "    <path d=\"M0 0h24v24H0V0z\" fill=\"none\"/>\n",
              "    <path d=\"M18.56 5.44l.94 2.06.94-2.06 2.06-.94-2.06-.94-.94-2.06-.94 2.06-2.06.94zm-11 1L8.5 8.5l.94-2.06 2.06-.94-2.06-.94L8.5 2.5l-.94 2.06-2.06.94zm10 10l.94 2.06.94-2.06 2.06-.94-2.06-.94-.94-2.06-.94 2.06-2.06.94z\"/><path d=\"M17.41 7.96l-1.37-1.37c-.4-.4-.92-.59-1.43-.59-.52 0-1.04.2-1.43.59L10.3 9.45l-7.72 7.72c-.78.78-.78 2.05 0 2.83L4 21.41c.39.39.9.59 1.41.59.51 0 1.02-.2 1.41-.59l7.78-7.78 2.81-2.81c.8-.78.8-2.07 0-2.86zM5.41 20L4 18.59l7.72-7.72 1.47 1.35L5.41 20z\"/>\n",
              "  </svg>\n",
              "      </button>\n",
              "      \n",
              "  <style>\n",
              "    .colab-df-container {\n",
              "      display:flex;\n",
              "      flex-wrap:wrap;\n",
              "      gap: 12px;\n",
              "    }\n",
              "\n",
              "    .colab-df-convert {\n",
              "      background-color: #E8F0FE;\n",
              "      border: none;\n",
              "      border-radius: 50%;\n",
              "      cursor: pointer;\n",
              "      display: none;\n",
              "      fill: #1967D2;\n",
              "      height: 32px;\n",
              "      padding: 0 0 0 0;\n",
              "      width: 32px;\n",
              "    }\n",
              "\n",
              "    .colab-df-convert:hover {\n",
              "      background-color: #E2EBFA;\n",
              "      box-shadow: 0px 1px 2px rgba(60, 64, 67, 0.3), 0px 1px 3px 1px rgba(60, 64, 67, 0.15);\n",
              "      fill: #174EA6;\n",
              "    }\n",
              "\n",
              "    [theme=dark] .colab-df-convert {\n",
              "      background-color: #3B4455;\n",
              "      fill: #D2E3FC;\n",
              "    }\n",
              "\n",
              "    [theme=dark] .colab-df-convert:hover {\n",
              "      background-color: #434B5C;\n",
              "      box-shadow: 0px 1px 3px 1px rgba(0, 0, 0, 0.15);\n",
              "      filter: drop-shadow(0px 1px 2px rgba(0, 0, 0, 0.3));\n",
              "      fill: #FFFFFF;\n",
              "    }\n",
              "  </style>\n",
              "\n",
              "      <script>\n",
              "        const buttonEl =\n",
              "          document.querySelector('#df-6598c37c-e8f2-4218-986c-9f7c32752815 button.colab-df-convert');\n",
              "        buttonEl.style.display =\n",
              "          google.colab.kernel.accessAllowed ? 'block' : 'none';\n",
              "\n",
              "        async function convertToInteractive(key) {\n",
              "          const element = document.querySelector('#df-6598c37c-e8f2-4218-986c-9f7c32752815');\n",
              "          const dataTable =\n",
              "            await google.colab.kernel.invokeFunction('convertToInteractive',\n",
              "                                                     [key], {});\n",
              "          if (!dataTable) return;\n",
              "\n",
              "          const docLinkHtml = 'Like what you see? Visit the ' +\n",
              "            '<a target=\"_blank\" href=https://colab.research.google.com/notebooks/data_table.ipynb>data table notebook</a>'\n",
              "            + ' to learn more about interactive tables.';\n",
              "          element.innerHTML = '';\n",
              "          dataTable['output_type'] = 'display_data';\n",
              "          await google.colab.output.renderOutput(dataTable, element);\n",
              "          const docLink = document.createElement('div');\n",
              "          docLink.innerHTML = docLinkHtml;\n",
              "          element.appendChild(docLink);\n",
              "        }\n",
              "      </script>\n",
              "    </div>\n",
              "  </div>\n",
              "  "
            ]
          },
          "metadata": {},
          "execution_count": 29
        }
      ]
    },
    {
      "cell_type": "markdown",
      "source": [
        "**Checking the shape of Airbnb. We now have 18 variables and 34652 observations as shown below:**"
      ],
      "metadata": {
        "id": "74fMDWw6Nkrp"
      },
      "id": "74fMDWw6Nkrp"
    },
    {
      "cell_type": "code",
      "source": [
        "#Shape of the dataset\n",
        "\n",
        "Airbnb.shape"
      ],
      "metadata": {
        "colab": {
          "base_uri": "https://localhost:8080/"
        },
        "id": "eB8MMc6aLRBq",
        "outputId": "9b7e1b26-fffb-42cb-e95c-08feff7a0bca"
      },
      "id": "eB8MMc6aLRBq",
      "execution_count": 30,
      "outputs": [
        {
          "output_type": "execute_result",
          "data": {
            "text/plain": [
              "(34652, 18)"
            ]
          },
          "metadata": {},
          "execution_count": 30
        }
      ]
    },
    {
      "cell_type": "code",
      "source": [
        "Airbnb.info()"
      ],
      "metadata": {
        "colab": {
          "base_uri": "https://localhost:8080/"
        },
        "id": "teFD_UPK-Sf4",
        "outputId": "960597a1-5389-42dc-d776-0fa1eb861f02"
      },
      "id": "teFD_UPK-Sf4",
      "execution_count": 31,
      "outputs": [
        {
          "output_type": "stream",
          "name": "stdout",
          "text": [
            "<class 'pandas.core.frame.DataFrame'>\n",
            "Int64Index: 34652 entries, 0 to 4161\n",
            "Data columns (total 18 columns):\n",
            " #   Column                          Non-Null Count  Dtype  \n",
            "---  ------                          --------------  -----  \n",
            " 0   id                              34652 non-null  float64\n",
            " 1   name                            34652 non-null  object \n",
            " 2   host_id                         34652 non-null  int64  \n",
            " 3   host_name                       34652 non-null  object \n",
            " 4   neighbourhood                   34652 non-null  object \n",
            " 5   latitude                        34652 non-null  float64\n",
            " 6   longitude                       34652 non-null  float64\n",
            " 7   room_type                       34652 non-null  object \n",
            " 8   price                           34652 non-null  int64  \n",
            " 9   minimum_nights                  34652 non-null  int64  \n",
            " 10  number_of_reviews               34652 non-null  int64  \n",
            " 11  last_review                     28889 non-null  object \n",
            " 12  reviews_per_month               28889 non-null  float64\n",
            " 13  calculated_host_listings_count  34652 non-null  int64  \n",
            " 14  availability_365                34652 non-null  int64  \n",
            " 15  number_of_reviews_ltm           34652 non-null  int64  \n",
            " 16  City                            34652 non-null  object \n",
            " 17  City_type                       34652 non-null  object \n",
            "dtypes: float64(4), int64(7), object(7)\n",
            "memory usage: 5.0+ MB\n"
          ]
        }
      ]
    },
    {
      "cell_type": "code",
      "source": [
        "#Checking for duplicate values\n",
        "\n",
        "Airbnb.duplicated().sum()"
      ],
      "metadata": {
        "colab": {
          "base_uri": "https://localhost:8080/"
        },
        "id": "w_ORUzZxPnlU",
        "outputId": "6acd5ec9-b3d0-4484-cb5a-6908401baa16"
      },
      "id": "w_ORUzZxPnlU",
      "execution_count": 32,
      "outputs": [
        {
          "output_type": "execute_result",
          "data": {
            "text/plain": [
              "0"
            ]
          },
          "metadata": {},
          "execution_count": 32
        }
      ]
    },
    {
      "cell_type": "markdown",
      "source": [
        "**There are no duplicate values in the Airbnb dataset**"
      ],
      "metadata": {
        "id": "uUESsFDZPABU"
      },
      "id": "uUESsFDZPABU"
    },
    {
      "cell_type": "markdown",
      "source": [
        "# **Ethical Principles**\n"
      ],
      "metadata": {
        "id": "QzKLbQFMdYHY"
      },
      "id": "QzKLbQFMdYHY"
    },
    {
      "cell_type": "markdown",
      "source": [
        "**Checklist**"
      ],
      "metadata": {
        "id": "ImjszKvAdsu9"
      },
      "id": "ImjszKvAdsu9"
    },
    {
      "cell_type": "markdown",
      "source": [
        "**Airbnb Data Policies**\n",
        "We have maintained the Data Policies of the Airbnb (http://insideairbnb.com/data-policies) - Inside Airbnb is a mission-driven activist project with the objective to provide data that quantifies the impact of short-term rentals on housing and residential communities, as well as create a platform to support advocacy for policies to protect our cities from the impacts of short-term rentals."
      ],
      "metadata": {
        "id": "RQInZ7tXe4NJ"
      },
      "id": "RQInZ7tXe4NJ"
    },
    {
      "cell_type": "markdown",
      "source": [
        "**Consent**: We will  Only take the data that we need from the website as stipulated in the website. The data is open and available on the inside airbnb website and it can be used for analysis purpose."
      ],
      "metadata": {
        "id": "JtghCDBGkJYW"
      },
      "id": "JtghCDBGkJYW"
    },
    {
      "cell_type": "markdown",
      "source": [
        "**Clarity**: We are very clear about what we are doing with the data which includes analysis that will portray different prices across 6 cities in Canada namely: Toronto, Montreal, Quebec City, Winnipeg, Victoria, and Vancouver in addition to predicting the prices"
      ],
      "metadata": {
        "id": "O3Qfzm2JkKlH"
      },
      "id": "O3Qfzm2JkKlH"
    },
    {
      "cell_type": "markdown",
      "source": [
        "**Consistency**: Our analysis will give an insight into possible cost of Airbnb by intending users within the 6 cities we have chosen to  analyze, this will guide users in selecting their prefered Airbnb in those cities."
      ],
      "metadata": {
        "id": "9lv0xEcSkThU"
      },
      "id": "9lv0xEcSkThU"
    },
    {
      "cell_type": "markdown",
      "source": [
        "**Control**: \n",
        "The analysis is available for users to decide and make their choices withing the 6 cities. Users data will not be required before they have access to the prediction analysis."
      ],
      "metadata": {
        "id": "oflhxEfYkf6m"
      },
      "id": "oflhxEfYkf6m"
    },
    {
      "cell_type": "markdown",
      "source": [
        "**Consequences**: \n",
        "There is absolutely no harmful consequence for the users of our analysis as it is not designed to collect personal information from users."
      ],
      "metadata": {
        "id": "bnEopGz-knHW"
      },
      "id": "bnEopGz-knHW"
    },
    {
      "cell_type": "markdown",
      "source": [
        "**References**\n",
        "\n",
        "Dataset: http://insideairbnb.com/get-the-data.html\n",
        "\n",
        "\n",
        "Airbnb Website: https://www.airbnb.ca/\n",
        "\n",
        "\n",
        "Airbnb Disclaimer: http://insideairbnb.com/about.html"
      ],
      "metadata": {
        "id": "BuGxBOEVkvOI"
      },
      "id": "BuGxBOEVkvOI"
    }
  ],
  "metadata": {
    "kernelspec": {
      "display_name": "Python 3 (ipykernel)",
      "language": "python",
      "name": "python3"
    },
    "language_info": {
      "codemirror_mode": {
        "name": "ipython",
        "version": 3
      },
      "file_extension": ".py",
      "mimetype": "text/x-python",
      "name": "python",
      "nbconvert_exporter": "python",
      "pygments_lexer": "ipython3",
      "version": "3.8.16"
    },
    "colab": {
      "provenance": []
    }
  },
  "nbformat": 4,
  "nbformat_minor": 5
}